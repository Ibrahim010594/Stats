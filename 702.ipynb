{
 "cells": [
  {
   "cell_type": "markdown",
   "metadata": {},
   "source": [
    "# 08/06"
   ]
  },
  {
   "cell_type": "code",
   "execution_count": 3,
   "metadata": {},
   "outputs": [],
   "source": [
    "import math\n",
    "import numpy as np\n",
    "import pandas as pd\n",
    "from pandas import Series,DataFrame\n",
    "import matplotlib.pyplot as plt\n",
    "import seaborn as sns\n",
    "import scipy.stats as stats"
   ]
  },
  {
   "cell_type": "code",
   "execution_count": 2,
   "metadata": {},
   "outputs": [],
   "source": [
    "# weights of cereal cartons\n",
    "n = 1500\n",
    "Xavg = 11.8 # ounces per carton\n",
    "sigma = 0.75 # ounce"
   ]
  },
  {
   "cell_type": "code",
   "execution_count": 3,
   "metadata": {},
   "outputs": [
    {
     "data": {
      "text/plain": [
       "59.9076"
      ]
     },
     "execution_count": 3,
     "metadata": {},
     "output_type": "execute_result"
    }
   ],
   "source": [
    "(2.58**2 * 0.75**2)/0.25**2"
   ]
  },
  {
   "cell_type": "code",
   "execution_count": 4,
   "metadata": {},
   "outputs": [],
   "source": [
    "# thus the federal agency must obtain a random sample of 60 cereal cartons to estimate weight within +-0.25"
   ]
  },
  {
   "cell_type": "code",
   "execution_count": 5,
   "metadata": {},
   "outputs": [
    {
     "name": "stdout",
     "output_type": "stream",
     "text": [
      "[58 55 53 ... 27 28 28]\n"
     ]
    }
   ],
   "source": [
    "np.random.seed(10)\n",
    "population_ages1 = stats.poisson.rvs(loc=18, mu=35, size=150000)\n",
    "population_ages2 = stats.poisson.rvs(loc=18, mu=10, size=100000)\n",
    "population_ages = np.concatenate((population_ages1, population_ages2))\n",
    "\n",
    "print(population_ages)"
   ]
  },
  {
   "cell_type": "code",
   "execution_count": 6,
   "metadata": {
    "scrolled": true
   },
   "outputs": [
    {
     "name": "stdout",
     "output_type": "stream",
     "text": [
      "[48 28 56 24 62 56 49 46 51 56 54 52 29 45 59 20 28 46 33 23 32 43 49 32\n",
      " 51 26 58 44 31 24 48 30 57 48 26 34 30 27 57 44 64 27 30 28 59 45 41 30\n",
      " 26 53 55 48 57 46 25 50 61 31 48 28 50 49 49 48 53 68 23 22 29 46 50 54\n",
      " 44 58 27 69 42 27 24 51 29 64 48 28 49 52 54 54 25 52 55 54 31 59 28 24\n",
      " 58 51 28 62 58 33 57 31 61 30 29 50 59 30 54 62 56 30 49 31 52 50 57 47\n",
      " 45 28 51 27 29 64 53 49 40 26 30 52 27 51 32 30 29 30 32 29 53 54 52 58\n",
      " 47 65 29 53 28 55 29 53 47 60 21 52 26 27 30 55 61 49 52 59 50 32 55 65\n",
      " 57 32 55 53 59 52 62 31 30 26 29 45 25 29 54 29 26 50 28 57 28 53 58 34\n",
      " 66 28 26 20 52 56 28 26 27 42 56 26 51 58 72 54 26 23 55 46 64 61 61 58\n",
      " 25 55 28 27 56 62 27 59 54 52 29 58 30 55 29 27 40 57 48 26 29 22 26 27\n",
      " 59 45 59 26 55 30 47 48 57 31 32 56 55 39 47 29 56 51 71 27 31 52 29 54\n",
      " 59 26 51 51 48 59 53 51 48 53 26 49 48 29 49 50 56 27 28 26 57 53 32 55\n",
      " 30 55 55 68 62 34 54 27 48 21 48 65 26 58 29 23 64 33 52 25 50 48 33 57\n",
      " 37 55 27 63 27 50 26 27 27 31 44 51 30 50 29 23 54 49 24 47 59 26 32 27\n",
      " 27 27 45 31 52 29 53 53 61 26 46 27 48 55 29 52 45 24 33 42 63 58 70 51\n",
      " 32 26 30 29 49 48 53 55 65 53 27 42 48 56 54 26 32 24 53 28 27 60 24 64\n",
      " 29 25 61 28 54 31 45 31 45 28 59 53 43 25 55 31 31 52 49 44 28 27 56 28\n",
      " 28 65 30 51 51 23 56 54 23 48 32 44 37 55 29 54 27 59 28 59 27 43 29 46\n",
      " 50 51 42 30 48 56 44 46 54 52 48 50 54 40 63 26 24 26 33 25 42 24 25 57\n",
      " 56 24 24 28 26 28 24 50 27 25 27 26 58 56 51 46 52 43 25 27 27 52 27 45\n",
      " 31 35 52 25 34 31 57 59 28 30 26 51 51 28 28 49 57 62 48 40 54 28 55 47\n",
      " 45 49 28 52 41 48 58 48 54 30 24 31 61 51 50 30 59 51 26 30 49 23 53 25\n",
      " 53 31 31 45 49 49 60 59 63 55 30 50 69 30 28 33 29 27 51 24 32 48 62 60\n",
      " 25 54 26 31 51 30 28 50 60 56 29 34 57 27 48 59 54 24 57 25 46 44 28 30\n",
      " 49 30 58 49 54 30 59 56 56 29 32 25 54 27 28 32 28 24 58 28 51 54 48 42\n",
      " 35 45 50 30 29 48 51 23 56 67 31 57 27 51 26 54 52 46 49 56 63 53 30 30\n",
      " 28 30 26 59 24 26 29 57 54 55 26 51 61 49 53 54 58 26 28 53 56 22 31 24\n",
      " 58 33 51 33 58 65 54 25 60 52 27 56 56 27 50 54 53 42 44 55 58 62 53 24\n",
      " 45 30 52 54 31 70 52 53 59 27 56 26 46 60 41 31 25 26 54 57 66 25 28 42\n",
      " 57 56 52 48 24 36 56 43 25 47 56 49 55 32 60 25 45 30 54 49 27 27 42 49\n",
      " 51 50 52 54 31 58 25 28 29 32 28 29 26 63 25 56 54 29 55 51 48 59 47 45\n",
      " 51 27 51 27 55 52 42 55 49 48 68 24 48 28 47 67 25 56 30 57 50 49 51 34\n",
      " 66 51 59 27 32 25 29 45 46 27 62 47 61 24 50 64 63 26 47 25 23 56 42 21\n",
      " 63 25 54 57 51 42 27 25 55 50 55 53 29 28 49 28 28 30 52 57 29 35 24 58\n",
      " 26 31 28 53 48 27 52 51 24 30 27 49 25 62 30 55 26 48 31 40 59 26 57 23\n",
      " 52 27 49 24 57 34 54 28 58 29 29 31 63 26 52 56 28 26 25 32 27 26 49 57\n",
      " 26 45 49 58 59 26 48 50 29 26 25 28 54 51 27 30 29 52 55 49 49 27 52 37\n",
      " 25 49 27 48 24 48 45 27 26 53 50 23 32 29 24 26 33 58 29 67 55 52 28 47\n",
      " 58 54 52 46 61 55 46 30 27 29 55 50 27 24 24 50 57 57 28 56 54 58 36 53\n",
      " 49 22 49 24 27 55 58 57 28 55 31 50 27 56 59 31 26 60 45 30 57 53 28 30\n",
      " 56 34 61 63 62 28 51 28 27 26 53 57 49 53 46 27 23 58 49 51 52 56 33 49\n",
      " 53 63 26 47 47 49 32 24 25 27 56 57 51 66 30 53]\n"
     ]
    }
   ],
   "source": [
    "np.random.seed(10)\n",
    "sample_ages = np.random.choice(a=population_ages,size=1000)            # Sample 500 values\n",
    "print(sample_ages)"
   ]
  },
  {
   "cell_type": "code",
   "execution_count": 7,
   "metadata": {},
   "outputs": [
    {
     "data": {
      "image/png": "[encoded data removed]",
      "text/plain": [
       "<Figure size 432x288 with 1 Axes>"
      ]
     },
     "metadata": {
      "needs_background": "light"
     },
     "output_type": "display_data"
    }
   ],
   "source": [
    "plt.hist(population_ages)\n",
    "plt.show()"
   ]
  },
  {
   "cell_type": "code",
   "execution_count": 8,
   "metadata": {},
   "outputs": [
    {
     "data": {
      "image/png": "[encoded data removed]",
      "text/plain": [
       "<Figure size 432x288 with 1 Axes>"
      ]
     },
     "metadata": {
      "needs_background": "light"
     },
     "output_type": "display_data"
    }
   ],
   "source": [
    "plt.hist(sample_ages)\n",
    "plt.show()"
   ]
  },
  {
   "cell_type": "code",
   "execution_count": 9,
   "metadata": {},
   "outputs": [
    {
     "name": "stdout",
     "output_type": "stream",
     "text": [
      "Population Size = 250000\n",
      "Population Mean = 43.002372\n",
      "Population Std = 13.229146547438953\n",
      "\n",
      "Sample Size = 1000\n",
      "Sample Mean = 42.523\n",
      "Sample Std = 13.439273979091471\n"
     ]
    }
   ],
   "source": [
    "print('Population Size =', population_ages.size)\n",
    "print('Population Mean =', np.mean(population_ages))\n",
    "print('Population Std =', np.std(population_ages))\n",
    "print()\n",
    "print('Sample Size =', sample_ages.size)\n",
    "print('Sample Mean =', np.mean(sample_ages))\n",
    "print('Sample Std =', np.std(sample_ages,ddof=1))"
   ]
  },
  {
   "cell_type": "code",
   "execution_count": 10,
   "metadata": {},
   "outputs": [
    {
     "name": "stdout",
     "output_type": "stream",
     "text": [
      "[41.4283, 43.6177]\n"
     ]
    }
   ],
   "source": [
    "ci = 0.99\n",
    "n = sample_ages.size\n",
    "Xavg = np.mean(sample_ages)\n",
    "sigma = np.std(sample_ages,ddof=1)\n",
    "s = sigma/np.sqrt(n)\n",
    "LCI, UCI = stats.norm.interval(ci, loc=Xavg, scale=s)\n",
    "print('[%1.4f, %1.4f]' %(LCI, UCI))"
   ]
  },
  {
   "cell_type": "code",
   "execution_count": 11,
   "metadata": {},
   "outputs": [
    {
     "name": "stdout",
     "output_type": "stream",
     "text": [
      "[41.6900, 43.3560]\n"
     ]
    }
   ],
   "source": [
    "ci=0.95\n",
    "LCI, UCI = stats.norm.interval(ci, loc=Xavg, scale=s)\n",
    "print('[%1.4f, %1.4f]' %(LCI, UCI))"
   ]
  },
  {
   "cell_type": "code",
   "execution_count": 12,
   "metadata": {},
   "outputs": [
    {
     "name": "stdout",
     "output_type": "stream",
     "text": [
      "[41.8240, 43.2220]\n"
     ]
    }
   ],
   "source": [
    "ci=0.9\n",
    "LCI, UCI = stats.norm.interval(ci, loc=Xavg, scale=s)\n",
    "print('[%1.4f, %1.4f]' %(LCI, UCI))"
   ]
  },
  {
   "cell_type": "code",
   "execution_count": 13,
   "metadata": {},
   "outputs": [],
   "source": [
    "H           = [ 4.7, 9.2, 9.3, 11.2, 8, 7.6, 7.4, 4.9, 9.2, 5.3, 1.7, 2.8, 7.2, 12.3, 8.6, 10.6, 9, 5.7, 6.9, 3.8]\n",
    "HoursSpent  = np.array(H)"
   ]
  },
  {
   "cell_type": "code",
   "execution_count": 14,
   "metadata": {},
   "outputs": [
    {
     "name": "stdout",
     "output_type": "stream",
     "text": [
      "90% CI for mean hours spent by students is 6.1298 to 8.4102 hours\n"
     ]
    }
   ],
   "source": [
    "ci = 0.9\n",
    "sample_mean = HoursSpent.mean()\n",
    "sigma = 3.1\n",
    "n = HoursSpent.size\n",
    "s = sigma / np.sqrt(n)\n",
    "LCI, UCI = stats.norm.interval(ci, loc=sample_mean, scale=s)\n",
    "print('%d%s CI for mean hours spent by students is %1.4f to %1.4f hours' % (ci*100, '%', LCI, UCI))"
   ]
  },
  {
   "cell_type": "code",
   "execution_count": 15,
   "metadata": {},
   "outputs": [
    {
     "data": {
      "text/plain": [
       "2.280362804198356"
      ]
     },
     "execution_count": 15,
     "metadata": {},
     "output_type": "execute_result"
    }
   ],
   "source": [
    "# CI width\n",
    "UCI-LCI"
   ]
  },
  {
   "cell_type": "code",
   "execution_count": 16,
   "metadata": {},
   "outputs": [
    {
     "data": {
      "text/plain": [
       "6.38165271065901"
      ]
     },
     "execution_count": 16,
     "metadata": {},
     "output_type": "execute_result"
    }
   ],
   "source": [
    "stats.norm.isf(q=0.9, loc=sample_mean, scale=s)"
   ]
  },
  {
   "cell_type": "code",
   "execution_count": 17,
   "metadata": {},
   "outputs": [
    {
     "data": {
      "text/plain": [
       "10.66"
      ]
     },
     "execution_count": 17,
     "metadata": {},
     "output_type": "execute_result"
    }
   ],
   "source": [
    "pd.Series(H).quantile(0.9)"
   ]
  },
  {
   "cell_type": "markdown",
   "metadata": {},
   "source": [
    "## Hypothesis Testing"
   ]
  },
  {
   "cell_type": "markdown",
   "metadata": {},
   "source": [
    "### Left-tailed test"
   ]
  },
  {
   "cell_type": "code",
   "execution_count": 4,
   "metadata": {},
   "outputs": [],
   "source": [
    "mu = 3 # hours\n",
    "Xavg = 2.8 # hours\n",
    "sd = 0.6\n",
    "n = 50"
   ]
  },
  {
   "cell_type": "markdown",
   "metadata": {},
   "source": [
    "Ha : mu < 3 hrs  [alternative hypothesis]  \n",
    "H0 : mu >= 3 hrs  [null hypothesis]  \n",
    "Assume H0 is True"
   ]
  },
  {
   "cell_type": "code",
   "execution_count": 5,
   "metadata": {},
   "outputs": [
    {
     "data": {
      "text/plain": [
       "-2.3570226039551607"
      ]
     },
     "execution_count": 5,
     "metadata": {},
     "output_type": "execute_result"
    }
   ],
   "source": [
    "ts = (Xavg - mu)/(sd/math.sqrt(n)) # test statistic\n",
    "ts"
   ]
  },
  {
   "cell_type": "code",
   "execution_count": 20,
   "metadata": {},
   "outputs": [
    {
     "data": {
      "text/plain": [
       "0.009211062727049439"
      ]
     },
     "execution_count": 20,
     "metadata": {},
     "output_type": "execute_result"
    }
   ],
   "source": [
    "pval = stats.norm.cdf(ts) # p value\n",
    "pval"
   ]
  },
  {
   "cell_type": "markdown",
   "metadata": {},
   "source": [
    "- There is only 0.9% probability of H0 being true.\n",
    "- Hence we can reject H0 with 99% confidence"
   ]
  },
  {
   "cell_type": "markdown",
   "metadata": {},
   "source": [
    "### Right-tailed test"
   ]
  },
  {
   "cell_type": "code",
   "execution_count": 21,
   "metadata": {},
   "outputs": [],
   "source": [
    "mu = 520 # bushels\n",
    "Xavg = 573\n",
    "sd = 124\n",
    "n = 36"
   ]
  },
  {
   "cell_type": "markdown",
   "metadata": {},
   "source": [
    "Ha : mu > 520 bushels  [alternative hypothesis]  \n",
    "H0 : mu <= 520 bushels  [null hypothesis]  \n",
    "Assume H0 is True"
   ]
  },
  {
   "cell_type": "code",
   "execution_count": 22,
   "metadata": {},
   "outputs": [
    {
     "data": {
      "text/plain": [
       "2.564516129032258"
      ]
     },
     "execution_count": 22,
     "metadata": {},
     "output_type": "execute_result"
    }
   ],
   "source": [
    "ts = (Xavg - mu)/(sd/math.sqrt(n))\n",
    "ts"
   ]
  },
  {
   "cell_type": "code",
   "execution_count": 23,
   "metadata": {},
   "outputs": [
    {
     "data": {
      "text/plain": [
       "0.00516598885994668"
      ]
     },
     "execution_count": 23,
     "metadata": {},
     "output_type": "execute_result"
    }
   ],
   "source": [
    "pval = 1 -stats.norm.cdf(ts) # p value\n",
    "pval"
   ]
  },
  {
   "cell_type": "markdown",
   "metadata": {},
   "source": [
    "- Only 0.5% chance of H0 being true\n",
    "- Hence we can reject H0 with more than 99% confidence"
   ]
  },
  {
   "cell_type": "markdown",
   "metadata": {},
   "source": [
    "### Two-tailed test"
   ]
  },
  {
   "cell_type": "code",
   "execution_count": 24,
   "metadata": {},
   "outputs": [],
   "source": [
    "mu = 190 # mg/dL (cholesterol level)\n",
    "Xavg = 178.2\n",
    "sd = 45.3\n",
    "n = 100"
   ]
  },
  {
   "cell_type": "markdown",
   "metadata": {},
   "source": [
    "Ha : mu != 190 mg/dL  [alternative hypothesis]  \n",
    "H0 : mu = 190 mg/dL  [null hypothesis]  \n",
    "Assume H0 is True"
   ]
  },
  {
   "cell_type": "code",
   "execution_count": 25,
   "metadata": {},
   "outputs": [
    {
     "data": {
      "text/plain": [
       "-2.6048565121412834"
      ]
     },
     "execution_count": 25,
     "metadata": {},
     "output_type": "execute_result"
    }
   ],
   "source": [
    "ts = (Xavg - mu)/(sd/math.sqrt(n))\n",
    "ts"
   ]
  },
  {
   "cell_type": "code",
   "execution_count": 26,
   "metadata": {},
   "outputs": [
    {
     "data": {
      "text/plain": [
       "0.009191274302693888"
      ]
     },
     "execution_count": 26,
     "metadata": {},
     "output_type": "execute_result"
    }
   ],
   "source": [
    "pval = 2 * stats.norm.cdf(ts) # p value\n",
    "pval"
   ]
  },
  {
   "cell_type": "markdown",
   "metadata": {},
   "source": [
    "- p-val less than 0.05 means it will fall in the rejection region\n",
    "- Hence we can reject H0 with 95% confidence"
   ]
  },
  {
   "cell_type": "markdown",
   "metadata": {},
   "source": [
    "## One Sample Test"
   ]
  },
  {
   "cell_type": "markdown",
   "metadata": {},
   "source": [
    "- *shapiro* [Test for Normality]\n",
    "    - (if normal) then *ttest_1samp*\n",
    "    - (if not normal) then *wilcoxon*"
   ]
  },
  {
   "cell_type": "markdown",
   "metadata": {},
   "source": [
    "### ttest_1samp() - parametric"
   ]
  },
  {
   "cell_type": "code",
   "execution_count": 27,
   "metadata": {},
   "outputs": [],
   "source": [
    "from scipy.stats import ttest_1samp"
   ]
  },
  {
   "cell_type": "code",
   "execution_count": 28,
   "metadata": {},
   "outputs": [
    {
     "name": "stdout",
     "output_type": "stream",
     "text": [
      "[58 55 53 ... 27 28 28]\n"
     ]
    }
   ],
   "source": [
    "np.random.seed(10)\n",
    "population_ages1 = stats.poisson.rvs(loc=18, mu=35, size=150000)\n",
    "population_ages2 = stats.poisson.rvs(loc=18, mu=10, size=100000)\n",
    "population_ages = np.concatenate((population_ages1, population_ages2))\n",
    "\n",
    "print(population_ages)"
   ]
  },
  {
   "cell_type": "code",
   "execution_count": 29,
   "metadata": {
    "scrolled": true
   },
   "outputs": [],
   "source": [
    "np.random.seed(6)\n",
    "sample_ages = np.random.choice(a= population_ages,size=500)            # Sample 500 values"
   ]
  },
  {
   "cell_type": "code",
   "execution_count": 30,
   "metadata": {},
   "outputs": [
    {
     "data": {
      "image/png": "[encoded data removed]",
      "text/plain": [
       "<Figure size 432x288 with 1 Axes>"
      ]
     },
     "metadata": {
      "needs_background": "light"
     },
     "output_type": "display_data"
    }
   ],
   "source": [
    "plt.hist(population_ages)\n",
    "plt.show()"
   ]
  },
  {
   "cell_type": "code",
   "execution_count": 31,
   "metadata": {},
   "outputs": [
    {
     "data": {
      "image/png": "[encoded data removed]",
      "text/plain": [
       "<Figure size 432x288 with 1 Axes>"
      ]
     },
     "metadata": {
      "needs_background": "light"
     },
     "output_type": "display_data"
    }
   ],
   "source": [
    "plt.hist(sample_ages)\n",
    "plt.show()"
   ]
  },
  {
   "cell_type": "code",
   "execution_count": 32,
   "metadata": {},
   "outputs": [
    {
     "name": "stdout",
     "output_type": "stream",
     "text": [
      "Population Size = 250000\n",
      "Population Mean = 43.002372\n",
      "Population Std = 13.229146547438953\n",
      "\n",
      "Sample Size = 500\n",
      "Sample Mean = 42.388\n",
      "Sample Std = 13.050597388026677\n"
     ]
    }
   ],
   "source": [
    "print('Population Size =', population_ages.size)\n",
    "print('Population Mean =', np.mean(population_ages))\n",
    "print('Population Std =', np.std(population_ages))\n",
    "print()\n",
    "print('Sample Size =', sample_ages.size)\n",
    "print('Sample Mean =', np.mean(sample_ages))\n",
    "print('Sample Std =', np.std(sample_ages,ddof=1))"
   ]
  },
  {
   "cell_type": "code",
   "execution_count": 33,
   "metadata": {},
   "outputs": [
    {
     "name": "stdout",
     "output_type": "stream",
     "text": [
      "-1.0485907744617016\n",
      "0.29487410580753803\n"
     ]
    }
   ],
   "source": [
    "tstat,pval = ttest_1samp(sample_ages, 43)\n",
    "print(tstat)\n",
    "print(pval)"
   ]
  },
  {
   "cell_type": "code",
   "execution_count": 34,
   "metadata": {},
   "outputs": [
    {
     "data": {
      "text/plain": [
       "Ttest_1sampResult(statistic=-13.042276103271979, pvalue=1.1573786231156175e-33)"
      ]
     },
     "execution_count": 34,
     "metadata": {},
     "output_type": "execute_result"
    }
   ],
   "source": [
    "ttest_1samp(sample_ages, 50)"
   ]
  },
  {
   "cell_type": "code",
   "execution_count": 35,
   "metadata": {},
   "outputs": [
    {
     "name": "stdout",
     "output_type": "stream",
     "text": [
      "Mean = 2.7216661849706845\n",
      "Std = 0.5451424818900117\n"
     ]
    }
   ],
   "source": [
    "# getting 50 random values with mean=2.8 and sd=0.6\n",
    "std = np.random.randn(50)\n",
    "delivery_times = (std*0.6)+2.8\n",
    "delivery_times\n",
    "print('Mean =',np.mean(delivery_times))\n",
    "print('Std =',np.std(delivery_times))"
   ]
  },
  {
   "cell_type": "code",
   "execution_count": 36,
   "metadata": {},
   "outputs": [
    {
     "data": {
      "image/png": "[encoded data removed]",
      "text/plain": [
       "<Figure size 432x288 with 1 Axes>"
      ]
     },
     "metadata": {
      "needs_background": "light"
     },
     "output_type": "display_data"
    }
   ],
   "source": [
    "plt.hist(delivery_times)\n",
    "plt.show()"
   ]
  },
  {
   "cell_type": "code",
   "execution_count": 37,
   "metadata": {},
   "outputs": [
    {
     "data": {
      "text/plain": [
       "Ttest_1sampResult(statistic=-3.5739953680555505, pvalue=0.0008013889001502078)"
      ]
     },
     "execution_count": 37,
     "metadata": {},
     "output_type": "execute_result"
    }
   ],
   "source": [
    "ttest_1samp(delivery_times, 3)"
   ]
  },
  {
   "cell_type": "code",
   "execution_count": 38,
   "metadata": {},
   "outputs": [
    {
     "data": {
      "image/png": "[encoded data removed]",
      "text/plain": [
       "<Figure size 432x288 with 1 Axes>"
      ]
     },
     "metadata": {
      "needs_background": "light"
     },
     "output_type": "display_data"
    }
   ],
   "source": [
    "bushels = (np.random.randn(36)*124) + 573\n",
    "plt.hist(bushels)\n",
    "plt.show()"
   ]
  },
  {
   "cell_type": "code",
   "execution_count": 39,
   "metadata": {},
   "outputs": [
    {
     "data": {
      "text/plain": [
       "Ttest_1sampResult(statistic=2.871629798834074, pvalue=0.00688955282624967)"
      ]
     },
     "execution_count": 39,
     "metadata": {},
     "output_type": "execute_result"
    }
   ],
   "source": [
    "ttest_1samp(bushels,520)"
   ]
  },
  {
   "cell_type": "markdown",
   "metadata": {},
   "source": [
    "### shapiro() - Test for Normality"
   ]
  },
  {
   "cell_type": "code",
   "execution_count": 40,
   "metadata": {},
   "outputs": [],
   "source": [
    "from scipy.stats import shapiro"
   ]
  },
  {
   "cell_type": "code",
   "execution_count": 41,
   "metadata": {},
   "outputs": [
    {
     "data": {
      "text/plain": [
       "array([3.62983541, 3.61743334, 3.83473911, 2.82203619, 3.05574458,\n",
       "       3.09064027, 3.18645966, 2.85440159, 2.48636685, 2.33807718,\n",
       "       2.91854209, 2.51630358, 2.53186385, 2.2005531 , 2.53233753,\n",
       "       2.18175138, 2.05245546, 2.30354421, 2.67562515, 2.81791026,\n",
       "       2.9420488 , 2.81602125, 2.53150461, 3.25628   , 1.24167518,\n",
       "       2.50544208, 2.44980133, 2.75191064, 2.11946081, 1.53414671,\n",
       "       2.59543568, 2.58132716, 2.54535928, 3.15617562, 1.85768552,\n",
       "       2.93800396, 2.65205434, 3.2216372 , 2.68032015, 2.22635832,\n",
       "       3.0962509 , 2.14001914, 3.24340278, 3.26017025, 2.903341  ,\n",
       "       2.43236221, 4.24699374, 2.46453607, 3.34103223, 2.70593149])"
      ]
     },
     "execution_count": 41,
     "metadata": {},
     "output_type": "execute_result"
    }
   ],
   "source": [
    "delivery_times"
   ]
  },
  {
   "cell_type": "markdown",
   "metadata": {},
   "source": [
    "H0 : Data is normal  \n",
    "Ha : Data is not normal"
   ]
  },
  {
   "cell_type": "code",
   "execution_count": 42,
   "metadata": {},
   "outputs": [
    {
     "data": {
      "text/plain": [
       "(0.9828587174415588, 0.6770855784416199)"
      ]
     },
     "execution_count": 42,
     "metadata": {},
     "output_type": "execute_result"
    }
   ],
   "source": [
    "shapiro(delivery_times)"
   ]
  },
  {
   "cell_type": "markdown",
   "metadata": {},
   "source": [
    "- p-value 0.58 > 0.05 hence we failed to reject null hypothesis\n",
    "- Data is normal"
   ]
  },
  {
   "cell_type": "code",
   "execution_count": 43,
   "metadata": {},
   "outputs": [
    {
     "data": {
      "text/plain": [
       "(0.9457728266716003, 0.0769900530576706)"
      ]
     },
     "execution_count": 43,
     "metadata": {},
     "output_type": "execute_result"
    }
   ],
   "source": [
    "shapiro(bushels)"
   ]
  },
  {
   "cell_type": "markdown",
   "metadata": {},
   "source": [
    "- p-value 0.96 > 0.05 hence we failed to reject null hypothesis\n",
    "- Data is normal"
   ]
  },
  {
   "cell_type": "code",
   "execution_count": 44,
   "metadata": {},
   "outputs": [
    {
     "data": {
      "text/plain": [
       "(0.9011534452438354, 1.8303998178361206e-17)"
      ]
     },
     "execution_count": 44,
     "metadata": {},
     "output_type": "execute_result"
    }
   ],
   "source": [
    "shapiro(sample_ages)"
   ]
  },
  {
   "cell_type": "markdown",
   "metadata": {},
   "source": [
    "- p-value 1.84e-25 < 0.05 hence we reject null hypothesis\n",
    "- Data is NOT normal"
   ]
  },
  {
   "cell_type": "markdown",
   "metadata": {},
   "source": [
    "### wilcoxon() - non-parametric t-tests"
   ]
  },
  {
   "cell_type": "markdown",
   "metadata": {},
   "source": [
    "- For data which is not normal, use wilcoxon() instead of ttest_1samp()\n",
    "- Check shapiro() to determine normality of data, and then use ttest_1samp() or wilcoxon() accordingly"
   ]
  },
  {
   "cell_type": "code",
   "execution_count": 45,
   "metadata": {},
   "outputs": [],
   "source": [
    "from scipy.stats import wilcoxon"
   ]
  },
  {
   "cell_type": "code",
   "execution_count": 46,
   "metadata": {},
   "outputs": [
    {
     "data": {
      "text/plain": [
       "Ttest_1sampResult(statistic=-1.0485907744617016, pvalue=0.29487410580753803)"
      ]
     },
     "execution_count": 46,
     "metadata": {},
     "output_type": "execute_result"
    }
   ],
   "source": [
    "ttest_1samp(sample_ages,43)"
   ]
  },
  {
   "cell_type": "code",
   "execution_count": 48,
   "metadata": {},
   "outputs": [
    {
     "data": {
      "text/plain": [
       "WilcoxonResult(statistic=54995.5, pvalue=0.03773950923136843)"
      ]
     },
     "execution_count": 48,
     "metadata": {},
     "output_type": "execute_result"
    }
   ],
   "source": [
    "wilcoxon(sample_ages-43)"
   ]
  },
  {
   "cell_type": "markdown",
   "metadata": {},
   "source": [
    "## Two Sample Tests"
   ]
  },
  {
   "cell_type": "markdown",
   "metadata": {},
   "source": [
    "- paired [dependent]\n",
    "    - shapiro on both groups [test for normality]\n",
    "    - (if both are normal) \n",
    "        - Levene [variance test]\n",
    "        - (if variances are equal)\n",
    "            - parametric test - ttest_1samp\n",
    "        - (if not equal)\n",
    "            - non-parametric test - wilcoxon\n",
    "    - (if either are not normal)\n",
    "        - Bartlett [variance test]\n",
    "        - non-parametric test - wilcoxon\n",
    "- unpaired [independent]"
   ]
  },
  {
   "cell_type": "code",
   "execution_count": null,
   "metadata": {},
   "outputs": [],
   "source": []
  }
 ],
 "metadata": {
  "kernelspec": {
   "display_name": "Python 3",
   "language": "python",
   "name": "python3"
  },
  "language_info": {
   "codemirror_mode": {
    "name": "ipython",
    "version": 3
   },
   "file_extension": ".py",
   "mimetype": "text/x-python",
   "name": "python",
   "nbconvert_exporter": "python",
   "pygments_lexer": "ipython3",
   "version": "3.7.3"
  },
  "toc": {
   "base_numbering": 1,
   "nav_menu": {},
   "number_sections": false,
   "sideBar": true,
   "skip_h1_title": true,
   "title_cell": "Table of Contents",
   "title_sidebar": "Contents",
   "toc_cell": false,
   "toc_position": {},
   "toc_section_display": true,
   "toc_window_display": true
  }
 },
 "nbformat": 4,
 "nbformat_minor": 2
}
